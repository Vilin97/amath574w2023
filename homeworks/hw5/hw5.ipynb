{
 "cells": [
  {
   "cell_type": "markdown",
   "id": "1dc16cd6",
   "metadata": {},
   "source": [
    "# Homework 5\n",
    "\n",
    "Due by 11:00pm on February 23, 2023\n",
    "\n",
    "For submission instructions, see:\n",
    "http://faculty.washington.edu/rjl/classes/am574w2023/homework5.html\n",
    "\n",
    "Ideally you will do this homework by modifying this Jupyter notebook `$AM574/homeworks/hw5/hw5.ipynb` to fill in the solutions, with plots to accompany your results.  If necessary you can scan some handwritten things instead."
   ]
  },
  {
   "cell_type": "markdown",
   "id": "b2b25d34",
   "metadata": {},
   "source": [
    "## Isothermal p-system\n",
    "\n",
    "All of the problems below concern the same nonlinear hyperbolic system \n",
    "$q_t + f(q)_x=0$ given by the p-system arising from Lagrangian gas dynamics (2.108)\n",
    "in the case of isothermal flow (as in Problem 2.8(b) from hw1):\n",
    "\n",
    "$$\n",
    "\\begin{split}\n",
    "v_t - u_x &= 0,\\\\\n",
    "u_t + (a^2/v)_x &=0.\n",
    "\\end{split}\n",
    "$$\n",
    "\n",
    "Write out formulas for general values of $a$ but use $a=2$ for the specific examples.\n",
    "\n",
    "The figure below shows a set of Hugoniot loci (in red and blue) and integral\n",
    "curves of the eigenvectors (in green and magenta) through the set of points $(v_*,u_*)$ \n",
    "where $u_*=0$ and $v_* = 0.5,~1,~1.5,~\\ldots,~10$ (marked with dots in the figure).\n",
    "\n",
    "Note that these curves agree well near the points $(v_*,u_*)$ but are not\n",
    "identical farther away.\n",
    "\n",
    "You will be asked to produce a similar figure and this shows what you are aiming for."
   ]
  },
  {
   "cell_type": "code",
   "execution_count": null,
   "id": "6553c55d",
   "metadata": {},
   "outputs": [],
   "source": [
    "from IPython.display import Image\n",
    "Image('isothermal1.png', width=500)"
   ]
  },
  {
   "cell_type": "markdown",
   "id": "68659d2a",
   "metadata": {},
   "source": [
    "**Question 1.** \n",
    "\n",
    "Work out the flux Jacobian and its eigenvalues and eigenvectors.\n",
    "Show that both characteristic families are genuinely nonlinear."
   ]
  },
  {
   "attachments": {},
   "cell_type": "markdown",
   "id": "dff909b6",
   "metadata": {},
   "source": [
    "The Jacobian is $$\\begin{bmatrix} 0 & -1 \\\\ -a^2/v^2 & 0 \\end{bmatrix}.$$\n",
    "Its eigenvalues are $$\\lambda^1 = a/v, \\quad \\lambda^2 = -a/v.$$\n",
    "Its eigenvectors are $$r^1 = \\begin{bmatrix} v \\\\ a \\end{bmatrix}, \\quad r^2 = \\begin{bmatrix} v \\\\ -a \\end{bmatrix}.$$\n",
    "The characteristic families are genuinely nonlinear because $$\\lambda^1 \\cdot r^1 = -a/v \\neq 0$$ and $$\\lambda^2 \\cdot r^2 = a/v \\neq 0$$"
   ]
  },
  {
   "cell_type": "markdown",
   "id": "420a9d1a",
   "metadata": {},
   "source": [
    "**Question 2.** \n",
    "\n",
    "Following Section 13.8.1, work out the equations for the integral\n",
    "curves of the eigenvectors through an arbitrary point\n",
    "$(v_*, u_*)$, e.g. specifying $u(v)$ as $v$ varies (with $u(v_*) = u_*$).\n",
    "You may find it convenient to use this to define Python functions\n",
    "`uint1(v,vstar,ustar,a)`, `uint2(v,vstar,ustar,a)`, so that you can easily plot these as\n",
    "functions of $v$."
   ]
  },
  {
   "cell_type": "markdown",
   "id": "ea625ef2",
   "metadata": {},
   "source": [
    "**Question 3.** \n",
    "\n",
    "Determine similar equations for the Hugoniot loci through an\n",
    "arbitrary point $(v_*, u_*)$, e.g. specifying $v(u)$ as $u$ varies\n",
    "away from $u_*$.  You may find it convenient to use this to define Python functions\n",
    "`uhug1(v,vstar,ustar)`, `uhug2(v,vstar,ustar)`, so that you can easily plot these as\n",
    "functions of $v$.\n",
    "\n",
    "Also give the formula for the shock speed $s(v)$\n",
    "for any point $(v,u(v))$ along this curve and show that this can be written as\n",
    "\n",
    "$$\n",
    "s(v)= \\pm \\frac{a}{\\sqrt{vv_*}}.\n",
    "$$\n",
    "\n",
    "(Note that, as expected, this converges\n",
    "to the corresponding eigenvalue as $v \\rightarrow v_*$.)"
   ]
  },
  {
   "cell_type": "markdown",
   "id": "8568c7cb",
   "metadata": {},
   "source": [
    "**Question 4.** \n",
    "\n",
    "For the particular case $a=2$,\n",
    "plot these curves to produce a plot similar to that shown above, and\n",
    "indicate which curves correspond to which family and which are Hugoniot\n",
    "loci or integral curves.  If you can't produce your own plot, at least\n",
    "figure this out for the plot shown above, as best you can, and specify what\n",
    "each color curve corresponds to."
   ]
  },
  {
   "cell_type": "markdown",
   "id": "7e30ff41",
   "metadata": {},
   "source": [
    "**Question 5.** \n",
    "\n",
    "Given the physical interpretation of this system (and remembering that $q=(v,u)$),\n",
    "we expect that if\n",
    "$q_\\ell = (1,-2)$ and $q_r = (1,2)$, then the solution to the \n",
    "Riemann problem with this data should consist of two rarefaction waves.\n",
    "For the case $a=2$, determine the middle state $q_m$ for this solution. \n",
    "You should be able to solve this analytically.\n",
    "\n",
    "Confirm that this is the physically correct solution by considering how the relevant eigenvalue varies as you move from $q_\\ell$ to $q_m$ to $q_r$.\n",
    "\n",
    "*Note:* You do not need to find the form of the rarefaction waves\n",
    "$\\tilde q(x/t)$ for this homework.  But you will for the next homework, so\n",
    "you might want to think about this too.\n"
   ]
  },
  {
   "cell_type": "markdown",
   "id": "47ac77a7",
   "metadata": {},
   "source": [
    "**Question 6.** \n",
    "\n",
    "What is the two-shock Riemann solution for arbitrary $q_\\ell$ and\n",
    "$q_r$?  You should also be able to solve this analytically.  \n",
    "\n",
    "*Hint:* solve a quadratic equation for $\\sqrt{v_m}$.\n",
    "\n",
    "As an example, what is the 2-shock solution for the data from the previous\n",
    "part, $a=2, ~q_\\ell = (1,-2)$ and $q_r = (1,2)$?\n",
    "\n",
    "How far is this from the correct middle state from the 2-rarefaction solution?"
   ]
  },
  {
   "cell_type": "markdown",
   "id": "8204d97f",
   "metadata": {},
   "source": [
    "**Question 7.** \n",
    "\n",
    "Produce a phase plane plot that shows $q_\\ell,~q_m,~q_r$, and the curves connecting them from the answer to Question 5, and also the Hugoniot loci from Question 6.\n"
   ]
  }
 ],
 "metadata": {
  "kernelspec": {
   "display_name": "Python 3 (ipykernel)",
   "language": "python",
   "name": "python3"
  },
  "language_info": {
   "codemirror_mode": {
    "name": "ipython",
    "version": 3
   },
   "file_extension": ".py",
   "mimetype": "text/x-python",
   "name": "python",
   "nbconvert_exporter": "python",
   "pygments_lexer": "ipython3",
   "version": "3.10.9"
  }
 },
 "nbformat": 4,
 "nbformat_minor": 5
}
