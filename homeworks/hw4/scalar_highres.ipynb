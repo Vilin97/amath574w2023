{
 "cells": [
  {
   "cell_type": "markdown",
   "id": "68235530",
   "metadata": {},
   "source": [
    "# scalar_highres\n",
    "\n",
    "Sample code for implementing high-resolution wave propagation methods for scalar nonlinear conservation laws.\n",
    "\n",
    "This version only implements upwind.  Homework 4 requires adding LW, minmod, and MC methods.\n",
    "\n",
    "The examples currently included are all for Burgers' equation, but the method should work for other convex fluxes $f(q)$.  You just need to define the flux function and the sonic point `qsonic` where $f'(q_s) = 0$ (if there is one; if not then the \"entropy fix\" is never needed)."
   ]
  },
  {
   "cell_type": "code",
   "execution_count": null,
   "id": "8c9a2bc4",
   "metadata": {},
   "outputs": [],
   "source": [
    "%matplotlib inline"
   ]
  },
  {
   "cell_type": "code",
   "execution_count": null,
   "id": "e17a3c94",
   "metadata": {},
   "outputs": [],
   "source": [
    "from pylab import *"
   ]
  },
  {
   "cell_type": "code",
   "execution_count": null,
   "id": "f647881f",
   "metadata": {},
   "outputs": [],
   "source": [
    "from IPython.display import HTML"
   ]
  },
  {
   "cell_type": "code",
   "execution_count": null,
   "id": "d797506b",
   "metadata": {},
   "outputs": [],
   "source": [
    "try:\n",
    "    from clawpack.visclaw import animation_tools\n",
    "except:\n",
    "    print(\"Failed to load animation_tools from Clawpack\")"
   ]
  },
  {
   "cell_type": "markdown",
   "id": "d9373ad9",
   "metadata": {},
   "source": [
    "### Set the flux and sonic point for Burgers' equation"
   ]
  },
  {
   "cell_type": "code",
   "execution_count": null,
   "id": "701c79ad",
   "metadata": {},
   "outputs": [],
   "source": [
    "f_burgers = lambda q: 0.5*q**2\n",
    "qsonic_burgers = 0."
   ]
  },
  {
   "cell_type": "markdown",
   "id": "f0167c2d",
   "metadata": {},
   "source": [
    "We now set up a grid with 2 ghost cells on each side, as needed in general for high-resolution methods with limiters.\n",
    "\n",
    "Note that only one ghost cell is needed for the data that goes into the Riemann problems we need solve for the Godunov update in the interior, but in order to limit the resulting waves based on looking at the neighboring Riemann problem on the upwind side, we need to solve an additional Riemann problem requiring another ghost cell for its data. "
   ]
  },
  {
   "cell_type": "code",
   "execution_count": null,
   "id": "a3b3dfa7",
   "metadata": {},
   "outputs": [],
   "source": [
    "xlower = 0.\n",
    "xupper = 1.\n",
    "num_cells = 20\n",
    "dx = (xupper - xlower)/num_cells\n",
    "\n",
    "# cell centers, including two ghost cells on either side:\n",
    "x = arange(xlower-3*dx/2, xupper+2*dx, dx)\n",
    "\n",
    "# interior grid cells are numbered 2,3,...num_cells+1\n",
    "# define array of indices of interior cells for vectorized methods:\n",
    "ii = array(range(2,num_cells+2), dtype=int)  \n",
    "\n",
    "print('including 4 ghost cells, the grid has %i cells' % len(x))\n",
    "print('cell centers: \\n',x)"
   ]
  },
  {
   "cell_type": "code",
   "execution_count": null,
   "id": "da1a9916",
   "metadata": {},
   "outputs": [],
   "source": [
    "def highres_step(x,Qn,dt,f,qsonic,method,efix):\n",
    "    \"\"\"\n",
    "    High-resolution method for the scalar equation, written\n",
    "    in a more general form similar to the methods described in\n",
    "    Section 12.8 of FVMHP for nonlinear scalar equations.\n",
    "    \n",
    "    f should be a function defining the flux f(q).\n",
    "    qsonic should be the sonic point where f'(qsonic) = 0.\n",
    "    If there is no sonic, point, this \n",
    "    \n",
    "    method can be\n",
    "        'upwind', 'LW', 'minmod', or 'MC'\n",
    "    in this version.\n",
    "    \n",
    "    If efix == True, use the correct Godunov flux in the transonic\n",
    "    rarefaction case, otherwise always use the jump in Q as the wave\n",
    "    with speed from the Rankine-Hugoniot condition.\n",
    "    \"\"\"\n",
    "    \n",
    "    num_cells = len(Qn) - 4\n",
    "    dx = x[1] - x[0]  # assuming uniform grid\n",
    "    \n",
    "    #indices of interior grid cells (not including ghost cells)\n",
    "    ii = array(range(2,num_cells+2), dtype=int) \n",
    "        \n",
    "    Qnp = Qn.copy()\n",
    "    \n",
    "    if False:\n",
    "        # periodic BCs with two ghost cells on each side\n",
    "        Qn[0] = Qn[-4]\n",
    "        Qn[1] = Qn[-3]\n",
    "        Qn[-2] = Qn[2]\n",
    "        Qn[-1] = Qn[3]\n",
    "    \n",
    "    # extrapolation (outflow) boundary conditions:\n",
    "    Qn[0] = Qn[2]\n",
    "    Qn[1] = Qn[2]\n",
    "    Qn[-2] = Qn[-3]\n",
    "    Qn[-1] = Qn[-3]\n",
    "    \n",
    "   \n",
    "    # Note below: waves, speeds, Qimh, etc are only \n",
    "    # defined for cells that have an interface to left\n",
    "\n",
    "    # waves:\n",
    "    wave = zeros(x.shape)\n",
    "    wave[1:] = Qn[1:] - Qn[0:-1]  \n",
    "    \n",
    "    # speeds:  (using Rankine-Hugoniot relation)\n",
    "    Fn = f(Qn)\n",
    "    dq = zeros(x.shape)\n",
    "    dq[1:] = Qn[1:] - Qn[:-1]\n",
    "    df = zeros(x.shape)\n",
    "    df[1:] = Fn[1:] - Fn[:-1]\n",
    "    s = zeros(x.shape)\n",
    "    # avoid divide-by-zero in computing df/dq:\n",
    "    s[1:] = divide(df[1:], dq[1:], where=dq[1:]!=0, out=zeros(dq[1:].shape))\n",
    "\n",
    "    # fluctuations (12.8) in FVMHP\n",
    "    amdq = where(s<0, s*wave, 0.)\n",
    "    apdq = where(s>0, s*wave, 0.)\n",
    "    \n",
    "    if efix:\n",
    "        # Implements the proper way to define all F_{i-1/2} from (12.2) for Godunov.\n",
    "        # This should agree with the above except for sonic rarefaction case\n",
    "  \n",
    "        # interface fluxes before applying entropy fix:\n",
    "        Fimh = zeros(x.shape)\n",
    "        Fimh[2:] = where(s[2:]<0, Fn[2:], Fn[1:-1])  # f(Qn) from upwind side\n",
    "        \n",
    "        # check for sonic point between states:\n",
    "        # if  (f(q_{i-1)-f(qsonic))/(q_{i-1-qsonic) < 0\n",
    "        # and (f(q_i)-f(qsonic))/(q_i-qsonic) >0\n",
    "        # then there is a transonic rarefaction and F_{i-1/2} = f(qsonic)\n",
    "        fsonic = f(qsonic)\n",
    "        dq[1:] = Qn[1:] - qsonic\n",
    "        df[1:] = Fn[1:] - fsonic\n",
    "        # slopes to compare:\n",
    "        Fs = zeros(x.shape)\n",
    "        Fs[1:] = divide(df[1:], dq[1:], where=dq[1:]!=0, out=zeros(dq[1:].shape))\n",
    "        \n",
    "        # apply the entropy fix:\n",
    "        Fimh[2:] = where(logical_and(Fs[1:-1]<0, Fs[2:]>0), fsonic, Fimh[2:])\n",
    "        amdq[1:] = Fimh[1:] - Fn[:-1]\n",
    "        apdq[1:] = Fn[1:] - Fimh[1:]\n",
    "    \n",
    "    # Godunov step: propagate waves to update the proper cell:\n",
    "    Qnp[ii] = Qnp[ii] - dt/dx * apdq[ii]    # right-going\n",
    "    Qnp[ii] = Qnp[ii] - dt/dx * amdq[ii+1]  # left-going\n",
    "    \n",
    "    if method != 'upwind':\n",
    "        print('Only upwind is implemented, using that')\n",
    "\n",
    "    return Qnp"
   ]
  },
  {
   "cell_type": "code",
   "execution_count": null,
   "id": "2979c83f",
   "metadata": {},
   "outputs": [],
   "source": [
    "def time_stepper(t0, x, Q0, dt, nsteps, f, qsonic, one_step, method, efix):\n",
    "    \"\"\"\n",
    "    Take nsteps with time step dt, starting with initial data Q0 at time t0.\n",
    "    To take a single step use the method specified by one_step, which\n",
    "    defaults to Godunov_step since that is the only method currently defined.\n",
    "    But you might want to define a new method for comparison.\n",
    "    \"\"\"\n",
    "    Qn = Q0.copy()\n",
    "    for n in range(nsteps):\n",
    "        Qn = one_step(x, Qn, dt, f, qsonic, method, efix)\n",
    "    return Qn"
   ]
  },
  {
   "cell_type": "code",
   "execution_count": null,
   "id": "e26f74de",
   "metadata": {},
   "outputs": [],
   "source": [
    "def plotQ(x, Qn, tn):\n",
    "    # only plot the interior points:\n",
    "    plot(x[2:-3], Qn[2:-3], 'bo-', markersize=4)\n",
    "    grid(True)\n",
    "    xlim(xlower, xupper)\n",
    "    ylim(-2,2)\n",
    "    title('Time t = %.3f' % tn)"
   ]
  },
  {
   "cell_type": "markdown",
   "id": "cdac17df",
   "metadata": {},
   "source": [
    "## Example usage"
   ]
  },
  {
   "cell_type": "code",
   "execution_count": null,
   "id": "2461e05e",
   "metadata": {},
   "outputs": [],
   "source": [
    "num_cells = 100\n",
    "dx = (xupper - xlower)/num_cells\n",
    "# cell centers, including two ghost cells on either side:\n",
    "x = arange(xlower-3*dx/2, xupper+2*dx, dx)\n",
    "\n",
    "t0 = 0.\n",
    "Q0 = where(logical_and(x>0.2,x<0.5), -1., 0.) \\\n",
    "     + exp(-200*(x-0.7)**2)\n",
    "\n",
    "tn = 0.\n",
    "figure(figsize=(6,2))\n",
    "plotQ(x,Q0,t0)\n",
    "\n",
    "dt = 0.004\n",
    "nsteps = 40\n",
    "tn = t0 + nsteps*dt\n",
    "print('Using dt = %.4f, taking %i steps to time %.3f' \\\n",
    "      % (dt,nsteps,tn))\n",
    "\n",
    "Qn = time_stepper(t0, x, Q0, dt, nsteps, f_burgers, qsonic_burgers, highres_step, 'upwind', True)\n",
    "fig = figure(figsize=(6,2))\n",
    "plotQ(x,Qn,tn)"
   ]
  },
  {
   "cell_type": "markdown",
   "id": "23fff52e",
   "metadata": {},
   "source": [
    "## Make an animated version:"
   ]
  },
  {
   "cell_type": "code",
   "execution_count": null,
   "id": "a23f635f",
   "metadata": {},
   "outputs": [],
   "source": [
    "def make_anim(t0, x, Q0, dt, nsteps, nplot, f, qsonic, one_step, method, efix):\n",
    "    \n",
    "    Qn = Q0.copy()  \n",
    "    \n",
    "    figsize = (6,4)\n",
    "    figs = []  # to accumulate figures for animation\n",
    "         \n",
    "    # plot initial data:\n",
    "    fig = figure(figsize=figsize)\n",
    "    plotQ(x,Q0,t0)\n",
    "    title('t = %.3f, %s, efix = %s' % (t0,method,efix))\n",
    "    figs.append(fig)\n",
    "    close(fig)\n",
    "\n",
    "    for n in range(1,nsteps+1):\n",
    "        # take the next step\n",
    "        Qn = highres_step(x, Qn, dt, f, qsonic, method, efix)\n",
    "        tn = n*dt\n",
    "        if mod(n,nplot)==0:\n",
    "            fig = figure(figsize=figsize)\n",
    "            plotQ(x,Qn,tn)\n",
    "            title('t = %.3f, %s, efix = %s' % (tn,method,efix))\n",
    "            figs.append(fig)\n",
    "            close(fig)\n",
    "            \n",
    "    anim = animation_tools.animate_figs(figs, figsize=figsize)\n",
    "    return anim"
   ]
  },
  {
   "cell_type": "markdown",
   "id": "a08d59c5",
   "metadata": {},
   "source": [
    "## Sample animation"
   ]
  },
  {
   "cell_type": "code",
   "execution_count": null,
   "id": "02c367ca",
   "metadata": {},
   "outputs": [],
   "source": [
    "num_cells = 50\n",
    "dx = (xupper - xlower)/num_cells\n",
    "# cell centers, including two ghost cells on either side:\n",
    "x = arange(xlower-3*dx/2, xupper+2*dx, dx)\n",
    "\n",
    "Q0 = where(logical_and(x>0.2,x<0.5), -1., 0.) \\\n",
    "     + exp(-200*(x-0.7)**2)\n",
    "\n",
    "t0 = 0.\n",
    "dt = 0.5*dx  # should be stable on Burgers' for |q| <= 2\n",
    "tfinal = 1.0\n",
    "# choose number of steps to roughly hit tfinal\n",
    "nsteps = int(round(tfinal / dt)) + 1\n",
    "# with 10 frames in animation\n",
    "nplot = int(round(nsteps/10)) \n",
    "print('tfinal = %.2f, dt = %.3f, nsteps = %i' % (tfinal, dt, nsteps))\n",
    "\n",
    "anim = make_anim(t0, x, Q0, dt, nsteps, nplot, f_burgers, qsonic_burgers,\n",
    "                 highres_step, 'upwind', True)\n",
    "HTML(anim.to_jshtml())"
   ]
  },
  {
   "cell_type": "markdown",
   "id": "30df4952",
   "metadata": {},
   "source": [
    "## Run some tests for Riemann problem initial data\n",
    "\n",
    "For illustration purposes, hard-wire some things to make it easy to try different Riemann problems as initial data for the numerical method.\n",
    "\n",
    "For the Riemann problem, we can use formula (16.7) in FVMHP to compute the exact solution for comparison purposes.  (Also works for nonconvex f.)"
   ]
  },
  {
   "cell_type": "code",
   "execution_count": null,
   "id": "63b08b94",
   "metadata": {},
   "outputs": [],
   "source": [
    "def osher_solution(f, q_left, q_right, n=1000):\n",
    "    \"\"\"\n",
    "    Compute the Riemann solution to a scalar conservation law.\n",
    "    Assumes a jump discontinuity from q_left to q_right at x=0.\n",
    "    Then the solution is a similarity solution.\n",
    "    \n",
    "    Uses Osher's formula (16.7) in FVMHP.\n",
    "    \n",
    "    Input:\n",
    "      f = flux function (possibly nonconvex)\n",
    "      q_left, q_right = Riemann data\n",
    "      n = number of points for evaluating f(q) between q_left,q_right\n",
    "          in order to approximate argmin function.\n",
    "      \n",
    "    Returns:\n",
    "      qtilde = function of xi = x/t giving the Riemann solution\n",
    "    \"\"\"\n",
    "\n",
    "    from numpy import linspace,empty,argmin,argmax\n",
    "    \n",
    "    q_min = min(q_left, q_right)\n",
    "    q_max = max(q_left, q_right)\n",
    "    qv = linspace(q_min, q_max, n)\n",
    "    \n",
    "    # define the function qtilde as in (16.7)\n",
    "    if q_left <= q_right:\n",
    "        def qtilde(xi):\n",
    "            Q = empty(xi.shape, dtype=float)\n",
    "            for j,xij in enumerate(xi):\n",
    "                i = argmin(f(qv) - xij*qv)\n",
    "                Q[j] = qv[i]\n",
    "            return Q\n",
    "    else:\n",
    "        def qtilde(xi):\n",
    "            Q = empty(xi.shape, dtype=float)\n",
    "            for j,xij in enumerate(xi):\n",
    "                i = argmax(f(qv) - xij*qv)\n",
    "                Q[j] = qv[i]\n",
    "            return Q\n",
    "    \n",
    "    return qtilde"
   ]
  },
  {
   "cell_type": "markdown",
   "id": "a86ce679",
   "metadata": {},
   "source": [
    "### Function to test out a method on a specific Riemann problem"
   ]
  },
  {
   "cell_type": "code",
   "execution_count": null,
   "id": "81e3143f",
   "metadata": {},
   "outputs": [],
   "source": [
    "def test_rp(x0, qleft, qright, method, efix):\n",
    "    \n",
    "    if method != 'upwind':\n",
    "        print('Only upwind is implemented!')\n",
    "        return\n",
    "    \n",
    "    num_cells = 50\n",
    "    dx = (xupper - xlower)/num_cells\n",
    "    # cell centers, including two ghost cells on either side:\n",
    "    x = arange(xlower-3*dx/2, xupper+2*dx, dx)\n",
    "    Q0 = where(x<x0, qleft, qright)\n",
    "    \n",
    "    dt = 0.5*dx  # should be stable on Burgers' for |q| <= 2\n",
    "\n",
    "    t0 = 0.\n",
    "    tfinal = 0.5\n",
    "    # choose number of steps to roughly hit tfinal\n",
    "    nsteps = int(round(tfinal / dt))\n",
    "    print('tfinal = %.2f, dt = %.3f, nsteps = %i' % (tfinal, dt, nsteps))\n",
    "    \n",
    "    figure(figsize=(6,2))\n",
    "    plotQ(x,Q0,t0)\n",
    "    \n",
    "    xfine = linspace(xlower, xupper, 1000)\n",
    "    q0fine = where(xfine<x0, qleft, qright)\n",
    "    plot(xfine, q0fine, 'r')\n",
    "\n",
    "    Qn = time_stepper(t0, x, Q0, dt, nsteps, f_burgers, qsonic_burgers,\n",
    "                      highres_step, method, efix)\n",
    "    fig = figure(figsize=(6,2))\n",
    "    plotQ(x,Qn,tfinal)\n",
    "    \n",
    "    qtilde = osher_solution(f_burgers, qleft, qright)\n",
    "    plot(xfine, qtilde((xfine-x0)/tfinal), 'r')\n"
   ]
  },
  {
   "cell_type": "code",
   "execution_count": null,
   "id": "4014fbf1",
   "metadata": {},
   "outputs": [],
   "source": [
    "test_rp(x0=0.2, qleft=1.5, qright=-0.5, method = 'upwind', efix = False)"
   ]
  },
  {
   "cell_type": "code",
   "execution_count": null,
   "id": "ae887963",
   "metadata": {},
   "outputs": [],
   "source": [
    "test_rp(x0=0.4, qleft=-0.5, qright=1.5, method = 'upwind', efix = False)"
   ]
  },
  {
   "cell_type": "code",
   "execution_count": null,
   "id": "9f5bbbc6",
   "metadata": {},
   "outputs": [],
   "source": [
    "test_rp(x0=0.4, qleft=-0.5, qright=1.5, method = 'upwind', efix = True)"
   ]
  },
  {
   "cell_type": "code",
   "execution_count": null,
   "id": "aac7f2ae",
   "metadata": {},
   "outputs": [],
   "source": [
    "test_rp(x0=0.2, qleft=1.5, qright=0.5, method = 'LW', efix = False)"
   ]
  },
  {
   "cell_type": "code",
   "execution_count": null,
   "id": "206365a9",
   "metadata": {},
   "outputs": [],
   "source": [
    "test_rp(x0=0.2, qleft=1.5, qright=0.5, method = 'minmod', efix = False)"
   ]
  },
  {
   "cell_type": "code",
   "execution_count": null,
   "id": "ee294e5a",
   "metadata": {},
   "outputs": [],
   "source": [
    "test_rp(x0=0.2, qleft=1.5, qright=0.5, method = 'MC', efix = False)"
   ]
  },
  {
   "cell_type": "code",
   "execution_count": null,
   "id": "5a20cf42",
   "metadata": {},
   "outputs": [],
   "source": [
    "test_rp(x0=0.4, qleft=-0.5, qright=1.5, method = 'minmod', efix = False)"
   ]
  },
  {
   "cell_type": "code",
   "execution_count": null,
   "id": "b5673ae7",
   "metadata": {},
   "outputs": [],
   "source": [
    "test_rp(x0=0.4, qleft=-0.5, qright=1.5, method = 'minmod', efix = True)"
   ]
  },
  {
   "cell_type": "code",
   "execution_count": null,
   "id": "73fbfca9",
   "metadata": {},
   "outputs": [],
   "source": [
    "test_rp(x0=0.4, qleft=-0.5, qright=1.5, method = 'MC', efix = False)"
   ]
  },
  {
   "cell_type": "code",
   "execution_count": null,
   "id": "b92cfff7",
   "metadata": {},
   "outputs": [],
   "source": [
    "test_rp(x0=0.4, qleft=-0.5, qright=1.5, method = 'MC', efix = True)"
   ]
  },
  {
   "cell_type": "markdown",
   "id": "15e65621",
   "metadata": {},
   "source": [
    "## Animated version of Riemann problem examples\n",
    "\n",
    "These animations were used in the video FVMHP14."
   ]
  },
  {
   "cell_type": "code",
   "execution_count": null,
   "id": "558f4148",
   "metadata": {},
   "outputs": [],
   "source": [
    "def make_anim_rp(x0, qleft, qright, f=f_burgers, qsonic=qsonic_burgers, method='upwind', efix=True):\n",
    "    \n",
    "    if method != 'upwind':\n",
    "        print('Only upwind is implemented!')\n",
    "        return\n",
    "    \n",
    "    xfine = linspace(xlower, xupper, 1000)\n",
    "    qtilde = osher_solution(f, qleft, qright)\n",
    "    \n",
    "    num_cells = 50\n",
    "    dx = (xupper - xlower)/num_cells\n",
    "    # cell centers, including two ghost cells on either side:\n",
    "    x = arange(xlower-3*dx/2, xupper+2*dx, dx)\n",
    "    Q0 = where(x<x0, qleft, qright)\n",
    "    \n",
    "    dt = 0.5*dx  # should be stable on Burgers' for |q| <= 2\n",
    "\n",
    "    t0 = 0.\n",
    "    tfinal = 1.0\n",
    "    # choose number of steps to roughly hit tfinal\n",
    "    nsteps = int(round(tfinal / dt))\n",
    "    print('tfinal = %.2f, dt = %.3f, nsteps = %i' % (tfinal, dt, nsteps))\n",
    "\n",
    "    Qn = Q0.copy()  \n",
    "    \n",
    "    figsize = (6,4)\n",
    "    figs = []  # to accumulate figures for animation\n",
    "    \n",
    "    # plot initial data:\n",
    "    fig = figure(figsize=figsize)\n",
    "    plotQ(x,Q0,t0)\n",
    "    q0fine = where(xfine<x0, qleft, qright)\n",
    "    plot(xfine, q0fine, 'r')\n",
    "    title('t = %.3f, %s, efix = %s' % (t0,method,efix))\n",
    "    figs.append(fig)\n",
    "    close(fig)\n",
    "\n",
    "    for n in range(1,nsteps+1):\n",
    "        # take the next step\n",
    "        Qn = highres_step(x, Qn, dt, f, qsonic, method, efix)\n",
    "        tn = n*dt\n",
    "        if mod(n,nplot)==0:\n",
    "            fig = figure(figsize=figsize)\n",
    "            plotQ(x,Qn,tn)\n",
    "            plot(xfine, qtilde((xfine-x0)/tn), 'r')\n",
    "            title('t = %.3f, %s, efix = %s' % (tn,method,efix))\n",
    "            figs.append(fig)\n",
    "            close(fig)            \n",
    "\n",
    "    anim = animation_tools.animate_figs(figs, figsize=figsize)\n",
    "    return anim"
   ]
  },
  {
   "cell_type": "code",
   "execution_count": null,
   "id": "b16c775e",
   "metadata": {},
   "outputs": [],
   "source": [
    "anim = make_anim_rp(x0=0.2, qleft=1.5, qright=0.5, method='upwind', efix=False)\n",
    "HTML(anim.to_jshtml())"
   ]
  },
  {
   "cell_type": "code",
   "execution_count": null,
   "id": "8f3766aa",
   "metadata": {},
   "outputs": [],
   "source": [
    "anim = make_anim_rp(x0=0.2, qleft=0.5, qright=1.5, method='upwind', efix=False)\n",
    "HTML(anim.to_jshtml())"
   ]
  },
  {
   "cell_type": "markdown",
   "id": "44e1172e",
   "metadata": {},
   "source": [
    "## Transonic rarefaction"
   ]
  },
  {
   "cell_type": "code",
   "execution_count": null,
   "id": "12ec185e",
   "metadata": {},
   "outputs": [],
   "source": [
    "anim = make_anim_rp(x0=0.2, qleft=-0.5, qright=1.5, method='upwind', efix=False)\n",
    "HTML(anim.to_jshtml())"
   ]
  },
  {
   "cell_type": "code",
   "execution_count": null,
   "id": "d097af97",
   "metadata": {},
   "outputs": [],
   "source": [
    "anim = make_anim_rp(x0=0.2, qleft=-0.5, qright=1.5, method='upwind', efix=True)\n",
    "HTML(anim.to_jshtml())"
   ]
  },
  {
   "cell_type": "markdown",
   "id": "d20e830f",
   "metadata": {},
   "source": [
    "## Lax-Wendroff and high-resolution methods"
   ]
  },
  {
   "cell_type": "code",
   "execution_count": null,
   "id": "db4c6e56",
   "metadata": {},
   "outputs": [],
   "source": [
    "anim = make_anim_rp(x0=0.2, qleft=0.5, qright=1.5, method='LW', efix=False)\n",
    "HTML(anim.to_jshtml())"
   ]
  },
  {
   "cell_type": "code",
   "execution_count": null,
   "id": "fee4693a",
   "metadata": {},
   "outputs": [],
   "source": [
    "anim = make_anim_rp(x0=0.2, qleft=0.5, qright=1.5, method='minmod', efix=False)\n",
    "HTML(anim.to_jshtml())"
   ]
  },
  {
   "cell_type": "markdown",
   "id": "cf880680",
   "metadata": {},
   "source": [
    "### Transonic rarefaction"
   ]
  },
  {
   "cell_type": "code",
   "execution_count": null,
   "id": "4606d465",
   "metadata": {},
   "outputs": [],
   "source": [
    "anim = make_anim_rp(x0=0.2, qleft=-0.5, qright=1.5, method='minmod', efix=False)\n",
    "HTML(anim.to_jshtml())"
   ]
  },
  {
   "cell_type": "code",
   "execution_count": null,
   "id": "dd4ae9ce",
   "metadata": {},
   "outputs": [],
   "source": [
    "anim = make_anim_rp(x0=0.2, qleft=-0.5, qright=1.5, method='MC', efix=False)\n",
    "HTML(anim.to_jshtml())"
   ]
  },
  {
   "cell_type": "code",
   "execution_count": null,
   "id": "1eee7b56",
   "metadata": {},
   "outputs": [],
   "source": [
    "anim = make_anim_rp(x0=0.2, qleft=-0.5, qright=1.5, method='minmod', efix=True)\n",
    "HTML(anim.to_jshtml())"
   ]
  },
  {
   "cell_type": "code",
   "execution_count": null,
   "id": "1ddcbc8a",
   "metadata": {},
   "outputs": [],
   "source": []
  }
 ],
 "metadata": {
  "kernelspec": {
   "display_name": "Python 3 (ipykernel)",
   "language": "python",
   "name": "python3"
  },
  "language_info": {
   "codemirror_mode": {
    "name": "ipython",
    "version": 3
   },
   "file_extension": ".py",
   "mimetype": "text/x-python",
   "name": "python",
   "nbconvert_exporter": "python",
   "pygments_lexer": "ipython3",
   "version": "3.10.9"
  }
 },
 "nbformat": 4,
 "nbformat_minor": 5
}
