{
 "cells": [
  {
   "cell_type": "markdown",
   "id": "f297af55",
   "metadata": {},
   "source": [
    "# Problem 3.2 of FVMHP\n",
    "\n",
    "Partial Python solution to Problem 3.2 of *Finite Volume Methods for Hyperbolic Problems*."
   ]
  },
  {
   "cell_type": "code",
   "execution_count": 1,
   "id": "c2379cfb",
   "metadata": {},
   "outputs": [],
   "source": [
    "%matplotlib inline"
   ]
  },
  {
   "cell_type": "code",
   "execution_count": 2,
   "id": "21d70593",
   "metadata": {},
   "outputs": [],
   "source": [
    "from pylab import *\n",
    "from numpy.linalg import eig, solve"
   ]
  },
  {
   "cell_type": "code",
   "execution_count": 2,
   "id": "ac7eb096",
   "metadata": {},
   "outputs": [],
   "source": [
    "def plot_pt(q, label, color='b'):\n",
    "    plot([q[0]], [q[1]], 'o', color=color, label=label)"
   ]
  },
  {
   "cell_type": "code",
   "execution_count": 4,
   "id": "95f16fcc",
   "metadata": {},
   "outputs": [],
   "source": [
    "def solve_Rp(A,ql,qr):\n",
    "    \"\"\"\n",
    "    Solve the Riemann problem for a 2x2 matrix A and given left and right states.\n",
    "    \"\"\"\n",
    "    \n",
    "    print('Matrix A:\\n', A)\n",
    "    \n",
    "    # compute eigenvalues and vectors:\n",
    "    evals, R = eig(A)\n",
    "    \n",
    "    # reorder if necessary so evals[0] <= evals[1]\n",
    "    jorder = argsort(evals)  # indices in order needed to sort\n",
    "    evals = evals[jorder]\n",
    "    R = R[:,jorder]\n",
    "    \n",
    "    print('Eigenvalues of A:', evals)\n",
    "    print('Matrix R of eigenvectors:\\n',R)\n",
    "    \n",
    "    # check that problem is hyperbolic:\n",
    "    assert isreal(evals).all(), '*** Eigenvalues are not real'\n",
    "    condR = cond(R)\n",
    "    print('Condition number of R is %g' % condR)\n",
    "    assert cond(R) < 1e12, '*** Matrix probably is not diagonalizable'\n",
    "\n",
    "    dq = qr - ql\n",
    "    alpha = solve(R, dq)\n",
    "    qm = ql + alpha[0]*R[:,0]\n",
    "    \n",
    "    print('alpha = ', alpha)\n",
    "    print('qm = ', qm)\n",
    "    \n",
    "    figure(figsize=(6,5))\n",
    "    plot_pt(ql,'ql','r')\n",
    "    plot_pt(qr,'qr','g')\n",
    "    plot_pt(qm,'qm','b')\n",
    "    plot((ql[0],qm[0],qr[0]), (ql[1],qm[1],qr[1]), 'b')\n",
    "    legend()\n",
    "    grid(True)\n",
    "    xlabel('first component of q')\n",
    "    ylabel('second component of q')\n",
    "    title('phase plane solution of Riemann problem')\n",
    "    \n",
    "    return qm\n"
   ]
  },
  {
   "cell_type": "markdown",
   "id": "4b931cbc",
   "metadata": {},
   "source": [
    "### Example usage"
   ]
  },
  {
   "cell_type": "code",
   "execution_count": 3,
   "id": "ba3adfc3",
   "metadata": {},
   "outputs": [
    {
     "ename": "NameError",
     "evalue": "name 'array' is not defined",
     "output_type": "error",
     "traceback": [
      "\u001b[0;31m---------------------------------------------------------------------------\u001b[0m",
      "\u001b[0;31mNameError\u001b[0m                                 Traceback (most recent call last)",
      "Cell \u001b[0;32mIn [3], line 1\u001b[0m\n\u001b[0;32m----> 1\u001b[0m A \u001b[38;5;241m=\u001b[39m array([[\u001b[38;5;241m3\u001b[39m,\u001b[38;5;241m2\u001b[39m],[\u001b[38;5;241m0\u001b[39m,\u001b[38;5;241m1\u001b[39m]])\n\u001b[1;32m      2\u001b[0m qleft \u001b[38;5;241m=\u001b[39m array([\u001b[38;5;241m1\u001b[39m,\u001b[38;5;241m1\u001b[39m])\n\u001b[1;32m      3\u001b[0m qright \u001b[38;5;241m=\u001b[39m array([\u001b[38;5;241m2\u001b[39m,\u001b[38;5;241m3\u001b[39m])\n",
      "\u001b[0;31mNameError\u001b[0m: name 'array' is not defined"
     ]
    }
   ],
   "source": [
    "A = array([[3,2],[0,1]])\n",
    "qleft = array([1,1])\n",
    "qright = array([2,3])\n",
    "qm = solve_Rp(A,qleft,qright)"
   ]
  },
  {
   "cell_type": "markdown",
   "id": "c4a6f9c9",
   "metadata": {},
   "source": [
    "### A non-hyperbolic case"
   ]
  },
  {
   "cell_type": "code",
   "execution_count": 6,
   "id": "c7d2c254",
   "metadata": {},
   "outputs": [
    {
     "name": "stdout",
     "output_type": "stream",
     "text": [
      "Matrix A:\n",
      " [[ 0  1]\n",
      " [-1  0]]\n",
      "Eigenvalues of A: [0.-1.j 0.+1.j]\n",
      "Matrix R of eigenvectors:\n",
      " [[0.70710678-0.j         0.70710678+0.j        ]\n",
      " [0.        -0.70710678j 0.        +0.70710678j]]\n"
     ]
    },
    {
     "ename": "AssertionError",
     "evalue": "*** Eigenvalues are not real",
     "output_type": "error",
     "traceback": [
      "\u001b[0;31m---------------------------------------------------------------------------\u001b[0m",
      "\u001b[0;31mAssertionError\u001b[0m                            Traceback (most recent call last)",
      "Cell \u001b[0;32mIn [6], line 4\u001b[0m\n\u001b[1;32m      2\u001b[0m qleft \u001b[38;5;241m=\u001b[39m array([\u001b[38;5;241m0\u001b[39m,\u001b[38;5;241m1\u001b[39m])\n\u001b[1;32m      3\u001b[0m qright \u001b[38;5;241m=\u001b[39m array([\u001b[38;5;241m1\u001b[39m,\u001b[38;5;241m0\u001b[39m])\n\u001b[0;32m----> 4\u001b[0m qm \u001b[38;5;241m=\u001b[39m solve_Rp(A,qleft,qright)\n",
      "Cell \u001b[0;32mIn [4], line 20\u001b[0m, in \u001b[0;36msolve_Rp\u001b[0;34m(A, ql, qr)\u001b[0m\n\u001b[1;32m     17\u001b[0m \u001b[38;5;28mprint\u001b[39m(\u001b[38;5;124m'\u001b[39m\u001b[38;5;124mMatrix R of eigenvectors:\u001b[39m\u001b[38;5;130;01m\\n\u001b[39;00m\u001b[38;5;124m'\u001b[39m,R)\n\u001b[1;32m     19\u001b[0m \u001b[38;5;66;03m# check that problem is hyperbolic:\u001b[39;00m\n\u001b[0;32m---> 20\u001b[0m \u001b[38;5;28;01massert\u001b[39;00m isreal(evals)\u001b[38;5;241m.\u001b[39mall(), \u001b[38;5;124m'\u001b[39m\u001b[38;5;124m*** Eigenvalues are not real\u001b[39m\u001b[38;5;124m'\u001b[39m\n\u001b[1;32m     21\u001b[0m condR \u001b[38;5;241m=\u001b[39m cond(R)\n\u001b[1;32m     22\u001b[0m \u001b[38;5;28mprint\u001b[39m(\u001b[38;5;124m'\u001b[39m\u001b[38;5;124mCondition number of R is \u001b[39m\u001b[38;5;132;01m%g\u001b[39;00m\u001b[38;5;124m'\u001b[39m \u001b[38;5;241m%\u001b[39m condR)\n",
      "\u001b[0;31mAssertionError\u001b[0m: *** Eigenvalues are not real"
     ]
    }
   ],
   "source": [
    "A = array([[0,1],[-1,0]])\n",
    "qleft = array([0,1])\n",
    "qright = array([1,0])\n",
    "qm = solve_Rp(A,qleft,qright)"
   ]
  },
  {
   "cell_type": "code",
   "execution_count": null,
   "id": "e5653cb5",
   "metadata": {},
   "outputs": [],
   "source": []
  }
 ],
 "metadata": {
  "kernelspec": {
   "display_name": "Python 3 (ipykernel)",
   "language": "python",
   "name": "python3"
  },
  "language_info": {
   "codemirror_mode": {
    "name": "ipython",
    "version": 3
   },
   "file_extension": ".py",
   "mimetype": "text/x-python",
   "name": "python",
   "nbconvert_exporter": "python",
   "pygments_lexer": "ipython3",
   "version": "3.10.9"
  }
 },
 "nbformat": 4,
 "nbformat_minor": 5
}
