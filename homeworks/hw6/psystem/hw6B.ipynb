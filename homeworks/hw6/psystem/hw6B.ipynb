{
 "cells": [
  {
   "cell_type": "markdown",
   "metadata": {},
   "source": [
    "# Homework 6B\n",
    "\n",
    "This is part of Homework 6.  Due by 11:00pm on March 10, 2023\n",
    "\n",
    "For the complete assignment and submission instructions, see:\n",
    "http://faculty.washington.edu/rjl/classes/am574w2023/homework6.html\n",
    "\n",
    "\n",
    "## Solving the p-system with Clawpack\n",
    "\n",
    "The main point of this assignment is to get some more experience running Clawpack and producing plots.  There is not much that you have to do for this part of the homework, just run the code provided with 4 sets of initial data corresponding the Riemann problem data from Question 1 of the notebook `hw6A.ipynb`.  This should help you check your solutions found there.\n",
    "\n",
    "This notebook shows one approach to using Clawpack via a Jupyter notebook, and shows the solution for two of the four sets of data.  You could simply augment this notebook with two more cells to compute and display the results for the other two.\n",
    "\n",
    "Or you can run clawpack at the command line as explained earlier and as you probably did for hw3.  In that case you will want to modify the Riemann data that is specified in `setrun.py`, run the code, make the plots, and save an appropriate frame of the solution to illustrate the results.\n",
    "\n",
    "You might want to try doing it both ways.\n",
    "\n",
    "Although you do not need to turn much in for this problem, produce the required plots to show that you got it working.  Also please spend some time studying the code to understand how things work and ask questions if you don't.  I hope that this will help you see how you might use Clawpack in the future for other problems.\n",
    "\n",
    "Some things to note as you inspect the code:\n",
    "\n",
    "- The Fortran 90 module `setprob_module.f90` creates some variables for parameters that can be used in other parts of the code and also defines the function `p(v)` needed for the p-system.\n",
    "\n",
    "- The subroutine `setprob.f90` reads in the problem-specific parameters need for this particular problem.  Note how these variables are specified in `setrun.py`.  When you do `make .data` these get written out to `setprob.data`, which is subsequently read in by the Fortran code when you `make .output`.\n",
    "\n",
    "- The subroutine `qinit.f90` sets the initial conditions base on the left and right state specified in `setrun.py`.\n",
    "\n",
    "- The subroutine `rp1_psystem_roe.f90` implements the Roe solver.\n",
    "\n",
    "- The code is set up to solve the problem on a very fine grid with 1000 cells, so that the computed solution should be a very good approximation to the true Riemann solution.  Note that this is true even though the Roe solver is used to solve each Riemann problem at every cell interface each time step.  The Roe solver may give a poor approximation to the true Riemann solution in the very first time step, when resolving the initial jump, but the numerical method is consistent with the true flux and so after hundreds of time steps on a fine grid the solution looks quite good.\n",
    "\n",
    "- The `setplot.py` function prints out the value from the grid cell near $x=0$ at each time so you can see how well this approximates the true state $q_m$ from the Riemann problem being solved (and use it to check your solutions to `hw6A`)."
   ]
  },
  {
   "cell_type": "code",
   "execution_count": null,
   "metadata": {},
   "outputs": [],
   "source": [
    "%matplotlib inline\n",
    "from pylab import *"
   ]
  },
  {
   "cell_type": "markdown",
   "metadata": {},
   "source": [
    "Check that the CLAW environment variable is set.  (It must be set in the Unix shell before starting the notebook server)."
   ]
  },
  {
   "cell_type": "code",
   "execution_count": null,
   "metadata": {},
   "outputs": [],
   "source": [
    "import os\n",
    "try:\n",
    "    CLAW = os.environ['CLAW'] \n",
    "    print(\"Using Clawpack from \", CLAW)\n",
    "except:\n",
    "    print(\"*** Environment variable CLAW must be set to run code\")"
   ]
  },
  {
   "cell_type": "markdown",
   "metadata": {},
   "source": [
    "On the Jupyter Hub you might need to set this from within the notebook, e.g.  uncomment the next cell and adjust the path if necessary:"
   ]
  },
  {
   "cell_type": "code",
   "execution_count": null,
   "metadata": {},
   "outputs": [],
   "source": [
    "#os.environ['CLAW'] = '/home/jovyan/clawpack_src/clawpack-v5-9-0'"
   ]
  },
  {
   "cell_type": "markdown",
   "metadata": {},
   "source": [
    "### Module with functions used to execute system commands and capture output:"
   ]
  },
  {
   "cell_type": "code",
   "execution_count": null,
   "metadata": {},
   "outputs": [],
   "source": [
    "from clawpack.clawutil import nbtools\n",
    "from clawpack.visclaw import animation_tools\n",
    "from IPython.display import HTML, Image"
   ]
  },
  {
   "cell_type": "markdown",
   "metadata": {},
   "source": [
    "#### Set the figsize\n",
    "\n",
    "You might want to adjust this depending on the size of your browser window."
   ]
  },
  {
   "cell_type": "code",
   "execution_count": null,
   "metadata": {},
   "outputs": [],
   "source": [
    "width_image = 400\n",
    "figsize_animation = (3,4)"
   ]
  },
  {
   "cell_type": "markdown",
   "metadata": {},
   "source": [
    "### Inline animations:\n",
    "\n",
    "Using `anim.to_jshtml()` gives animations similar to what you see in the html files if you do `make plots`, but you may prefer the `anim.to_html5_video()` option.  See the [matplotlib.animation.Animation documentation](https://matplotlib.org/3.1.0/api/_as_gen/matplotlib.animation.Animation.html) for more information, also on how to save an animation as a separate file."
   ]
  },
  {
   "cell_type": "code",
   "execution_count": null,
   "metadata": {},
   "outputs": [],
   "source": [
    "def show_anim(anim):\n",
    "    html_version = HTML(anim.to_jshtml())\n",
    "    #html_version = HTML(anim.to_html5_video())\n",
    "    return html_version"
   ]
  },
  {
   "cell_type": "markdown",
   "metadata": {},
   "source": [
    "### Compile the code:"
   ]
  },
  {
   "cell_type": "code",
   "execution_count": null,
   "metadata": {},
   "outputs": [],
   "source": [
    "nbtools.make_exe(new=True)  # new=True ==> force recompilation of all code"
   ]
  },
  {
   "cell_type": "markdown",
   "metadata": {},
   "source": [
    "### Make documentation files:"
   ]
  },
  {
   "cell_type": "code",
   "execution_count": null,
   "metadata": {},
   "outputs": [],
   "source": [
    "nbtools.make_htmls()"
   ]
  },
  {
   "cell_type": "markdown",
   "metadata": {},
   "source": [
    "### Run the code and plot results using the setrun.py and setplot.py files in this directory:\n",
    "\n",
    "First create data files needed for the Fortran code, using parameters specified in setrun.py:"
   ]
  },
  {
   "cell_type": "code",
   "execution_count": null,
   "metadata": {},
   "outputs": [],
   "source": [
    "nbtools.make_data(verbose=False)"
   ]
  },
  {
   "cell_type": "markdown",
   "metadata": {},
   "source": [
    "Now run the code and produce plots.  Specifying a label insures the resulting plot directory will persist after later runs are done below."
   ]
  },
  {
   "cell_type": "code",
   "execution_count": null,
   "metadata": {},
   "outputs": [],
   "source": [
    "outdir,plotdir = nbtools.make_output_and_plots(label='1')"
   ]
  },
  {
   "cell_type": "markdown",
   "metadata": {},
   "source": [
    "#### Show one frame of the solution:"
   ]
  },
  {
   "cell_type": "code",
   "execution_count": null,
   "metadata": {},
   "outputs": [],
   "source": [
    "Image('_plots_1/frame0010fig0.png', width=width_image)"
   ]
  },
  {
   "cell_type": "markdown",
   "metadata": {},
   "source": [
    "Note that this code is set up to solve a Riemann problem with data from Question 5 of hw5 (also Question 1(a) of hw6).\n",
    "\n",
    "The `setplot.py` function prints out the value `(vmid, umid)` in the middle grid cell, which should be a good approximation to the intermediate state in the Riemann solution for this problem."
   ]
  },
  {
   "cell_type": "markdown",
   "metadata": {},
   "source": [
    "### Display the animation inline:\n",
    "\n",
    "Clicking on the `_PlotIndex` link above, you can view an animation of the results. (This might not work if you run into permission problems with the notebook accessing this webpage.)\n",
    "\n",
    "After creating all png files in the `_plots` directory, these can also be combined in an animation that is displayed inline:"
   ]
  },
  {
   "cell_type": "code",
   "execution_count": null,
   "metadata": {},
   "outputs": [],
   "source": [
    "anim = animation_tools.animate_from_plotdir(plotdir,figsize=(3,4));\n",
    "show_anim(anim)"
   ]
  },
  {
   "cell_type": "markdown",
   "metadata": {},
   "source": [
    "## Adjust the Riemann problem data\n",
    "\n",
    "The animation above was computed using the default parameter values specified in `setrun.py`, which specified using the high-resolution method with the MC limiter on a fine grid with 1000 cells.\n",
    "\n",
    "See the <a href=\"README.html\">README.html</a> file for a link to `setrun.py`.\n",
    "\n",
    "We can adjust the parameters by reading in the default values, changing one or more, and then  writing the data out for the Fortran code to use.\n",
    "\n",
    "Here we will leave the grid and method alone but change the Riemann problem data:"
   ]
  },
  {
   "cell_type": "code",
   "execution_count": null,
   "metadata": {},
   "outputs": [],
   "source": [
    "import setrun\n",
    "rundata = setrun.setrun()\n",
    "probdata = rundata.probdata\n",
    "\n",
    "print('Riemann problem data:')\n",
    "print('vleft = %5.2f     vright = %5.2f' % (probdata.vleft,probdata.vright))\n",
    "print('uleft = %5.2f     uright = %5.2f' % (probdata.uleft,probdata.uright))"
   ]
  },
  {
   "cell_type": "markdown",
   "metadata": {},
   "source": [
    "### Change the data and run again:\n",
    "\n",
    "Change the initial conditions and write out the data.  Then rerun the code."
   ]
  },
  {
   "cell_type": "markdown",
   "metadata": {},
   "source": [
    "#### Data from Problem 1(b)"
   ]
  },
  {
   "cell_type": "code",
   "execution_count": null,
   "metadata": {},
   "outputs": [],
   "source": [
    "probdata.vleft = 1.;   probdata.vright = 2.5\n",
    "probdata.uleft = 1.;    probdata.uright = -2.\n",
    "\n",
    "rundata.write()\n",
    "\n",
    "outdir, plotdir = nbtools.make_output_and_plots(verbose=False)\n",
    "print('plots can be found in %s' % plotdir)"
   ]
  },
  {
   "cell_type": "markdown",
   "metadata": {},
   "source": [
    "Show an earlier time than before. In general you should choose a good time to display the solution, before the waves start to leave the domain!"
   ]
  },
  {
   "cell_type": "code",
   "execution_count": null,
   "metadata": {},
   "outputs": [],
   "source": [
    "Image('%s/frame0007fig0.png' % plotdir, width=width_image)"
   ]
  },
  {
   "cell_type": "code",
   "execution_count": null,
   "metadata": {},
   "outputs": [],
   "source": [
    "anim = animation_tools.animate_from_plotdir(plotdir,figsize=figsize_animation);\n",
    "show_anim(anim)"
   ]
  }
 ],
 "metadata": {
  "kernelspec": {
   "display_name": "Python 3 (ipykernel)",
   "language": "python",
   "name": "python3"
  },
  "language_info": {
   "codemirror_mode": {
    "name": "ipython",
    "version": 3
   },
   "file_extension": ".py",
   "mimetype": "text/x-python",
   "name": "python",
   "nbconvert_exporter": "python",
   "pygments_lexer": "ipython3",
   "version": "3.10.9"
  }
 },
 "nbformat": 4,
 "nbformat_minor": 1
}
