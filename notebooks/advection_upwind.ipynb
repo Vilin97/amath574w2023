{
 "cells": [
  {
   "cell_type": "markdown",
   "id": "46663aa1",
   "metadata": {},
   "source": [
    "# Advection\n",
    "\n",
    "The notebook developed in class on 1/20/23."
   ]
  },
  {
   "cell_type": "code",
   "execution_count": null,
   "id": "2241a37d",
   "metadata": {},
   "outputs": [],
   "source": [
    "%matplotlib inline"
   ]
  },
  {
   "cell_type": "code",
   "execution_count": null,
   "id": "2fd4712b",
   "metadata": {},
   "outputs": [],
   "source": [
    "from pylab import *"
   ]
  },
  {
   "cell_type": "code",
   "execution_count": null,
   "id": "31179c6e",
   "metadata": {},
   "outputs": [],
   "source": [
    "u = 2."
   ]
  },
  {
   "cell_type": "code",
   "execution_count": null,
   "id": "e0a9229c",
   "metadata": {},
   "outputs": [],
   "source": [
    "xlower = 0.\n",
    "xupper = 1.\n",
    "num_cells = 20\n",
    "dx = (xupper-xlower)/num_cells\n",
    "x = arange(xlower - dx/2, xupper + dx, dx)"
   ]
  },
  {
   "cell_type": "code",
   "execution_count": null,
   "id": "e177b3b3",
   "metadata": {},
   "outputs": [],
   "source": [
    "dt = 0.5 * dx/u\n",
    "cfl = u*dt/dx\n",
    "print(cfl)"
   ]
  },
  {
   "cell_type": "code",
   "execution_count": null,
   "id": "333c24f1",
   "metadata": {},
   "outputs": [],
   "source": [
    "def upwind_step(Qn):\n",
    "    Qnp = Qn.copy()\n",
    "    # periodic BCs:\n",
    "    Qn[0] = Qn[-2]\n",
    "    Qn[-1] = Qn[1]\n",
    "    \n",
    "    for i in range(1, len(x)-1):\n",
    "        Qnp[i] = Qn[i] - cfl*(Qn[i] - Qn[i-1])\n",
    "        \n",
    "    return Qnp"
   ]
  },
  {
   "cell_type": "code",
   "execution_count": null,
   "id": "b2ff4333",
   "metadata": {},
   "outputs": [],
   "source": [
    "Qn = sin(2*pi*x)\n",
    "plot(x[1:-1], Qn[1:-1], 'bo-')\n",
    "grid(True)\n",
    "xlim(xlower, xupper)"
   ]
  },
  {
   "cell_type": "code",
   "execution_count": null,
   "id": "dc72c02d",
   "metadata": {},
   "outputs": [],
   "source": [
    "def plotQ(Qn, tn):\n",
    "    plot(x[1:-1], Qn[1:-1], 'bo-')\n",
    "    grid(True)\n",
    "    xlim(xlower, xupper)\n",
    "    title('Time t = %.3f' % tn)"
   ]
  },
  {
   "cell_type": "code",
   "execution_count": null,
   "id": "321c0113",
   "metadata": {},
   "outputs": [],
   "source": [
    "tn = 0.\n",
    "Qn = where(x<0.5, 1., 0.)\n",
    "plotQ(Qn,tn)"
   ]
  },
  {
   "cell_type": "code",
   "execution_count": null,
   "id": "bc799023",
   "metadata": {},
   "outputs": [],
   "source": [
    "tn = tn+dt\n",
    "Qn = upwind_step(Qn)\n",
    "figure(figsize=(6,3))\n",
    "plotQ(Qn,tn)"
   ]
  },
  {
   "cell_type": "code",
   "execution_count": null,
   "id": "edf775bd",
   "metadata": {},
   "outputs": [],
   "source": [
    "#Qn = sin(2*pi*x)\n",
    "Qn = where(x<0.5, 1., 0.)\n",
    "tn = 0.\n",
    "figure(figsize=(6,3))\n",
    "plotQ(Qn,tn)\n",
    "\n",
    "for n in range(5):\n",
    "    tn = tn + dt\n",
    "    Qn = upwind_step(Qn)\n",
    "    plotQ(Qn,tn)"
   ]
  },
  {
   "cell_type": "markdown",
   "id": "fbb7f4dc",
   "metadata": {},
   "source": [
    "## Note on numpy arrays\n",
    "\n",
    "The bug in my code yesterday was that I set\n",
    "\n",
    "`Qn = where(x<0.5, 1, 0)`\n",
    "\n",
    "rather than\n",
    "\n",
    "`Qn = where(x<0.5, 1., 0.)`\n",
    "\n",
    "The problem is that using integers `1, 0` rather than floats `1, 0.` results in `Qn` being a numpy array with `dtype=int` (an array of integers).  Then if you modify one element, e.g.\n",
    "\n",
    "`Qn[0] = 0.6`\n",
    "\n",
    "since the array is hardwared to only hold integers, this gets rounded up to 1 instead."
   ]
  },
  {
   "cell_type": "code",
   "execution_count": null,
   "id": "30925404",
   "metadata": {},
   "outputs": [],
   "source": []
  }
 ],
 "metadata": {
  "kernelspec": {
   "display_name": "Python 3 (ipykernel)",
   "language": "python",
   "name": "python3"
  },
  "language_info": {
   "codemirror_mode": {
    "name": "ipython",
    "version": 3
   },
   "file_extension": ".py",
   "mimetype": "text/x-python",
   "name": "python",
   "nbconvert_exporter": "python",
   "pygments_lexer": "ipython3",
   "version": "3.9.7"
  }
 },
 "nbformat": 4,
 "nbformat_minor": 5
}
