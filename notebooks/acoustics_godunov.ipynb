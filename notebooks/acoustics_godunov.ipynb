{
 "cells": [
  {
   "cell_type": "markdown",
   "id": "630acb95",
   "metadata": {},
   "source": [
    "# Acoustics with Godunov's method\n",
    "\n",
    "A simple implementation of Godunov's method for constant coefficient acoustics.\n",
    "\n",
    "Modified to include dt in function calls, and to better illustrate the solution after 1 or more steps."
   ]
  },
  {
   "cell_type": "code",
   "execution_count": 5,
   "id": "05ecdd2d",
   "metadata": {},
   "outputs": [],
   "source": [
    "%matplotlib inline"
   ]
  },
  {
   "cell_type": "code",
   "execution_count": 6,
   "id": "4a221c65",
   "metadata": {},
   "outputs": [],
   "source": [
    "from pylab import *"
   ]
  },
  {
   "cell_type": "code",
   "execution_count": 7,
   "id": "b342c64b",
   "metadata": {},
   "outputs": [],
   "source": [
    "from IPython.display import HTML"
   ]
  },
  {
   "cell_type": "code",
   "execution_count": 8,
   "id": "5201e7b5",
   "metadata": {},
   "outputs": [
    {
     "name": "stdout",
     "output_type": "stream",
     "text": [
      "Failed to load animation_tools from Clawpack\n"
     ]
    }
   ],
   "source": [
    "try:\n",
    "    from clawpack.visclaw import animation_tools\n",
    "except:\n",
    "    print(\"Failed to load animation_tools from Clawpack\")"
   ]
  },
  {
   "cell_type": "markdown",
   "id": "4cc434e4",
   "metadata": {},
   "source": [
    "### Define the domain and material parameters for acoustics:"
   ]
  },
  {
   "cell_type": "code",
   "execution_count": 9,
   "id": "8c69a0ed",
   "metadata": {},
   "outputs": [
    {
     "name": "stdout",
     "output_type": "stream",
     "text": [
      "sound speed c0 = 1.000\n",
      "impedance Z0 = 2.000\n"
     ]
    }
   ],
   "source": [
    "# domain:\n",
    "xlower = 0.\n",
    "xupper = 1.\n",
    "\n",
    "# material parameters:\n",
    "K0 = 2\n",
    "rho0 = 2\n",
    "c0 = sqrt(K0/rho0)\n",
    "print('sound speed c0 = %.3f' % c0)\n",
    "Z0 = sqrt(K0*rho0)\n",
    "print('impedance Z0 = %.3f' % Z0)\n",
    "A = array([[0, K0], [1/rho0, 0]])"
   ]
  },
  {
   "cell_type": "markdown",
   "id": "2eb7c484",
   "metadata": {},
   "source": [
    "## Function to take a single time step:\n",
    "\n",
    "For simplicity, this function has only two inputs, the arrays of `Pn` $=P^n$ and `Un` $=U^n$ containing the pressure and velocity at some time t_n.\n",
    "\n",
    "It returns the updated arrays `Pnp` $= P^{n+1}$ and `Unp` $= U^{n+1}$ at the end of the time step.\n",
    "\n",
    "This function uses values set above for the material parameters set above.  \n",
    "It should work regardless of the number of grid cells in the arrays (provided `Pn` and `Un` have the same length), and now take `dt` as a parameter.  So you only need to re-execute if you change the material parameters."
   ]
  },
  {
   "cell_type": "code",
   "execution_count": 56,
   "id": "e516e63f",
   "metadata": {},
   "outputs": [],
   "source": [
    "def LxF_step(Pn,Un,dt,dx):\n",
    "    Pnp = Pn.copy()\n",
    "    Unp = Un.copy()\n",
    "\n",
    "    # fill ghost cells for periodic BCs:\n",
    "    Pn[0] = Pn[-2]\n",
    "    Pn[-1] = Pn[1]\n",
    "    Un[0] = Un[-2]\n",
    "    Un[-1] = Un[1]\n",
    "    \n",
    "    # loop over interfaces where Riemann problem will be solved:\n",
    "    for i in range(1,len(Pn)-1):\n",
    "        Pnp[i] = 1/2*(Pn[i-1]+Pn[i+1]) - dt/(2*dx) * K0 * (Un[i+1] - Un[i-1])\n",
    "        Unp[i] = 1/2*(Un[i-1]+Un[i+1]) - dt/(2*dx*rho0) * (Pn[i+1] - Pn[i-1])\n",
    "        \n",
    "    # fill ghost cells\n",
    "    Pnp[0] = Pnp[-2]\n",
    "    Pnp[-1] = Pnp[1]\n",
    "    Unp[0] = Unp[-2]\n",
    "    Unp[-1] = Unp[1]\n",
    "    return Pnp, Unp\n",
    "\n",
    "def Godunov_step(Pn,Un,dt,dx):\n",
    "    # initialize new cell averages at n+1 to old ones at n:\n",
    "    # important to make a copy so we can modify without change old values!\n",
    "    Pnp = Pn.copy()\n",
    "    Unp = Un.copy()\n",
    "\n",
    "    # fill ghost cells for periodic BCs:\n",
    "    # fill at t_n so these values can be used in computing updates\n",
    "    Pn[0] = Pn[-2]\n",
    "    Pn[-1] = Pn[1]\n",
    "    Un[0] = Un[-2]\n",
    "    Un[-1] = Un[1]\n",
    "    \n",
    "    # loop over interfaces where Riemann problem will be solved:\n",
    "    for i in range(1,len(Pn)):\n",
    "        \n",
    "        # solve Riemann problem between i-1 and i:\n",
    "        \n",
    "        # left and right states (using old values at t_n):\n",
    "        PL = Pn[i-1]; PR = Pn[i]\n",
    "        UL = Un[i-1]; UR = Un[i]\n",
    "        \n",
    "        # coefficients of eigenvectors in W^p = alpha^p * r^p:\n",
    "        # from (3.31) in FVMHP\n",
    "        alpha1 = (-(PR-PL) + Z0*(UR-UL)) / (2*Z0)\n",
    "        alpha2 = ((PR-PL) + Z0*(UR-UL)) / (2*Z0)\n",
    "        \n",
    "        # wave speeds (eigenvalues):\n",
    "        s1 = -c0\n",
    "        s2 = c0\n",
    "        \n",
    "        # left-going wave W1 updates cell i-1:\n",
    "\n",
    "        Pnp[i-1] = Pnp[i-1] - dt/dx * s1 * alpha1 * (-Z0)\n",
    "        Unp[i-1] = Unp[i-1] - dt/dx * s1 * alpha1 * 1.\n",
    "        \n",
    "        # right-going wave W2 updates cell i:\n",
    "        Pnp[i] = Pnp[i] - dt/dx * s2 * alpha2 * Z0\n",
    "        Unp[i] = Unp[i] - dt/dx * s2 * alpha2 * 1.\n",
    "        \n",
    "    return Pnp, Unp"
   ]
  },
  {
   "cell_type": "markdown",
   "id": "4b4ce6d1",
   "metadata": {},
   "source": [
    "### Function to plot a numerical solution at one time:"
   ]
  },
  {
   "cell_type": "code",
   "execution_count": 57,
   "id": "07a25660",
   "metadata": {},
   "outputs": [],
   "source": [
    "def plotQ(Pn,Un,tn):\n",
    "    subplot(2,1,1)\n",
    "    plot(x[1:-1], Pn[1:-1], 'bo-')\n",
    "    xlim(xlower,xupper)\n",
    "    title('pressure at time %.3f' % tn)\n",
    "    \n",
    "    subplot(2,1,2)\n",
    "    plot(x[1:-1], Un[1:-1], 'bo-')\n",
    "    xlim(xlower,xupper)\n",
    "    title('velocity at time %.3f' % tn)\n",
    "    tight_layout() "
   ]
  },
  {
   "cell_type": "markdown",
   "id": "77920600",
   "metadata": {},
   "source": [
    "### Time stepping:\n",
    "\n",
    "Executing the next cell repeatedly will take a time step and plot the new solution"
   ]
  },
  {
   "cell_type": "code",
   "execution_count": 58,
   "id": "16136ec4",
   "metadata": {},
   "outputs": [],
   "source": [
    "def time_stepper(t0, P0, U0, dt, dx, nsteps, one_step=Godunov_step):\n",
    "    \"\"\"\n",
    "    Take nsteps with time step dt, starting with initial data (P0,U0) at time t0.\n",
    "    To take a single step use the method specified by one_step, which\n",
    "    defaults to Godunov_step since that is the only method currently defined.\n",
    "    But you might want to define a new method for comparison.\n",
    "    \"\"\"\n",
    "    Pn = P0.copy()\n",
    "    Un = U0.copy()\n",
    "    for n in range(nsteps):\n",
    "        Pn,Un = one_step(Pn, Un, dt, dx)\n",
    "    return Pn,Un"
   ]
  },
  {
   "cell_type": "markdown",
   "id": "73daceb5",
   "metadata": {},
   "source": [
    "## Perform some numerical experiments\n",
    "\n",
    "Now that things are set up we can do some experiments with various choices of the grid resolution, Courant number, initial conditions, etc."
   ]
  },
  {
   "cell_type": "markdown",
   "id": "34df3e59",
   "metadata": {},
   "source": [
    "### Define the numerical grid\n",
    "\n",
    "We define a finite volume grid with `num_cells` interior points, indexed `1,2,...,num_cells`.  The cell centers start at `dx/2`.  There is also one \"ghost cell\" on either side.  This works great in Python since array indexing starts at 0, but in Matlab with 1-based indexing the ghost cell would have index 1.  Also if more than 1 ghost cell is used, the indexing will change. "
   ]
  },
  {
   "cell_type": "code",
   "execution_count": 59,
   "id": "eff9fdc6",
   "metadata": {},
   "outputs": [
    {
     "name": "stdout",
     "output_type": "stream",
     "text": [
      "including 2 ghost cells, the grid has 52 cells\n"
     ]
    }
   ],
   "source": [
    "num_cells = 50\n",
    "dx = (xupper - xlower)/num_cells\n",
    "\n",
    "# cell centers, including one ghost cell on either side:\n",
    "x = arange(xlower-dx/2, xupper+dx, dx)\n",
    "\n",
    "print('including 2 ghost cells, the grid has %i cells' % len(x))"
   ]
  },
  {
   "cell_type": "markdown",
   "id": "00d07425",
   "metadata": {},
   "source": [
    "### Initial conditions:\n",
    "\n",
    "The arrays P0 and U0 should be numpy arrays of length `num_cells + 2` with `dtype = float`.  Make sure they aren't integer arrays!"
   ]
  },
  {
   "cell_type": "code",
   "execution_count": 60,
   "id": "bbce89c7",
   "metadata": {},
   "outputs": [
    {
     "data": {
      "image/png": "[encoded data removed]",
      "text/plain": [
       "<Figure size 360x360 with 2 Axes>"
      ]
     },
     "metadata": {
      "needs_background": "light"
     },
     "output_type": "display_data"
    }
   ],
   "source": [
    "#P0 = exp(-150*(x-0.5)**2)\n",
    "P0 = where(logical_and(x>0.4,x<0.6), 1., 0.)\n",
    "\n",
    "U0 = zeros(x.shape)\n",
    "#U0 = -P0 / Z0  # only left-going wave\n",
    "#U0 = P0 / Z0  # only right-going wave\n",
    "\n",
    "t0 = 0.\n",
    "fig = figure(figsize=(5,5))\n",
    "plotQ(P0,U0,t0)"
   ]
  },
  {
   "cell_type": "markdown",
   "id": "5c2cc677",
   "metadata": {},
   "source": [
    "### Take several time steps and plot final solution:"
   ]
  },
  {
   "cell_type": "code",
   "execution_count": 65,
   "id": "bfd8055c",
   "metadata": {},
   "outputs": [
    {
     "name": "stdout",
     "output_type": "stream",
     "text": [
      "Using dt = 0.0180, cfl = 0.90, taking 20 steps to time 0.360\n"
     ]
    },
    {
     "data": {
      "image/png": "[encoded data removed]",
      "text/plain": [
       "<Figure size 360x360 with 2 Axes>"
      ]
     },
     "metadata": {
      "needs_background": "light"
     },
     "output_type": "display_data"
    }
   ],
   "source": [
    "dt = 0.018\n",
    "cfl = c0*dt/dx\n",
    "nsteps = 20\n",
    "tn = t0 + nsteps*dt\n",
    "\n",
    "print('Using dt = %.4f, cfl = %.2f, taking %i steps to time %.3f' \\\n",
    "      % (dt,cfl,nsteps,tn))\n",
    "\n",
    "Pn,Un = time_stepper(t0, P0, U0, dt, dx, nsteps, LxF_step)\n",
    "fig = figure(figsize=(5,5))\n",
    "plotQ(Pn,Un,tn)"
   ]
  },
  {
   "cell_type": "code",
   "execution_count": 64,
   "id": "ad55c7ae",
   "metadata": {},
   "outputs": [
    {
     "name": "stdout",
     "output_type": "stream",
     "text": [
      "Using dt = 0.0180, cfl = 0.90, taking 20 steps to time 0.360\n"
     ]
    },
    {
     "data": {
      "image/png": "[encoded data removed]",
      "text/plain": [
       "<Figure size 360x360 with 2 Axes>"
      ]
     },
     "metadata": {
      "needs_background": "light"
     },
     "output_type": "display_data"
    }
   ],
   "source": [
    "dt = 0.018\n",
    "cfl = c0*dt/dx\n",
    "nsteps = 20\n",
    "tn = t0 + nsteps*dt\n",
    "\n",
    "print('Using dt = %.4f, cfl = %.2f, taking %i steps to time %.3f' \\\n",
    "      % (dt,cfl,nsteps,tn))\n",
    "\n",
    "Pn,Un = time_stepper(t0, P0, U0, dt, dx, nsteps, Godunov_step)\n",
    "fig = figure(figsize=(5,5))\n",
    "plotQ(Pn,Un,tn)"
   ]
  },
  {
   "cell_type": "markdown",
   "id": "fcd08da2",
   "metadata": {},
   "source": [
    "### Second experiment - refine the grid\n",
    "\n",
    "Try the same test but with 100 cells instead of 50, with the time step also reduced by a factor of 2, and now taking 40 time steps to reach the same time as with 20 steps before.\n",
    "\n",
    "Now all the setup and plotting has been combined into a single cell..."
   ]
  },
  {
   "cell_type": "code",
   "execution_count": 29,
   "id": "68f42a45",
   "metadata": {},
   "outputs": [
    {
     "name": "stdout",
     "output_type": "stream",
     "text": [
      "including 2 ghost cells, the grid has 102 cells\n",
      "Using dt = 0.0090, cfl = 0.90, taking 40 steps to time 0.360\n"
     ]
    },
    {
     "data": {
      "image/png": "[encoded data removed]",
      "text/plain": [
       "<Figure size 360x360 with 2 Axes>"
      ]
     },
     "metadata": {
      "needs_background": "light"
     },
     "output_type": "display_data"
    },
    {
     "data": {
      "image/png": "[encoded data removed]",
      "text/plain": [
       "<Figure size 360x360 with 2 Axes>"
      ]
     },
     "metadata": {
      "needs_background": "light"
     },
     "output_type": "display_data"
    }
   ],
   "source": [
    "num_cells = 100\n",
    "dx = (xupper - xlower)/num_cells\n",
    "\n",
    "# cell centers, including one ghost cell on either side:\n",
    "x = arange(xlower-dx/2, xupper+dx, dx)\n",
    "\n",
    "print('including 2 ghost cells, the grid has %i cells' % len(x))\n",
    "\n",
    "#P0 = exp(-150*(x-0.5)**2)\n",
    "P0 = where(logical_and(x>0.4,x<0.6), 1., 0.)\n",
    "\n",
    "U0 = zeros(x.shape)\n",
    "#U0 = -P0 / Z0  # only left-going wave\n",
    "#U0 = P0 / Z0  # only right-going wave\n",
    "\n",
    "t0 = 0.\n",
    "fig = figure(figsize=(5,5))\n",
    "plotQ(P0,U0,t0)\n",
    "\n",
    "dt = 0.009\n",
    "cfl = c0*dt/dx\n",
    "nsteps = 40\n",
    "tn = t0 + nsteps*dt\n",
    "print('Using dt = %.4f, cfl = %.2f, taking %i steps to time %.3f' \\\n",
    "      % (dt,cfl,nsteps,tn))\n",
    "\n",
    "Pn,Un = time_stepper(t0, P0, U0, dt, dx, nsteps, Godunov_step)\n",
    "fig = figure(figsize=(5,5))\n",
    "plotQ(Pn,Un,tn)"
   ]
  },
  {
   "cell_type": "markdown",
   "id": "f21b99ee",
   "metadata": {},
   "source": [
    "## Make an animation:\n",
    "\n",
    "This will only work if you were able to import animation_tools."
   ]
  },
  {
   "cell_type": "code",
   "execution_count": 30,
   "id": "c9b68abf",
   "metadata": {},
   "outputs": [
    {
     "ename": "NameError",
     "evalue": "name 'animation_tools' is not defined",
     "output_type": "error",
     "traceback": [
      "\u001b[1;31m---------------------------------------------------------------------------\u001b[0m",
      "\u001b[1;31mNameError\u001b[0m                                 Traceback (most recent call last)",
      "\u001b[1;32mc:\\Users\\Math User\\Github\\amath574w2023\\notebooks\\acoustics_godunov.ipynb Cell 24\u001b[0m in \u001b[0;36m<cell line: 24>\u001b[1;34m()\u001b[0m\n\u001b[0;32m     <a href='vscode-notebook-cell:/c%3A/Users/Math%20User/Github/amath574w2023/notebooks/acoustics_godunov.ipynb#X32sZmlsZQ%3D%3D?line=18'>19</a>\u001b[0m     \u001b[39mif\u001b[39;00m n \u001b[39m<\u001b[39m nsteps\u001b[39m-\u001b[39m\u001b[39m1\u001b[39m:\n\u001b[0;32m     <a href='vscode-notebook-cell:/c%3A/Users/Math%20User/Github/amath574w2023/notebooks/acoustics_godunov.ipynb#X32sZmlsZQ%3D%3D?line=19'>20</a>\u001b[0m         \u001b[39m# take the next step\u001b[39;00m\n\u001b[0;32m     <a href='vscode-notebook-cell:/c%3A/Users/Math%20User/Github/amath574w2023/notebooks/acoustics_godunov.ipynb#X32sZmlsZQ%3D%3D?line=20'>21</a>\u001b[0m         Pn, Un \u001b[39m=\u001b[39m Godunov_step(Pn,Un,dt,dx)\n\u001b[1;32m---> <a href='vscode-notebook-cell:/c%3A/Users/Math%20User/Github/amath574w2023/notebooks/acoustics_godunov.ipynb#X32sZmlsZQ%3D%3D?line=23'>24</a>\u001b[0m anim \u001b[39m=\u001b[39m animation_tools\u001b[39m.\u001b[39manimate_figs(figs, figsize\u001b[39m=\u001b[39m(\u001b[39m5\u001b[39m,\u001b[39m5\u001b[39m))\n\u001b[0;32m     <a href='vscode-notebook-cell:/c%3A/Users/Math%20User/Github/amath574w2023/notebooks/acoustics_godunov.ipynb#X32sZmlsZQ%3D%3D?line=24'>25</a>\u001b[0m HTML(anim\u001b[39m.\u001b[39mto_jshtml())\n",
      "\u001b[1;31mNameError\u001b[0m: name 'animation_tools' is not defined"
     ]
    }
   ],
   "source": [
    "# Using grid points, dt, cfl, etc. from above.\n",
    "\n",
    "# initial conditions from above:\n",
    "tn = 0.\n",
    "Pn = P0.copy()\n",
    "Un = U0.copy()\n",
    "\n",
    "nsteps = 40\n",
    "nplot = 4.  # how frequently to produce a plot\n",
    "figs = []  # to accumulate figures for animation\n",
    "\n",
    "for n in range(0,nsteps):\n",
    "    tn = n*dt\n",
    "    if mod(n,nplot)==0:\n",
    "        fig = figure(figsize=(5,5))\n",
    "        plotQ(Pn,Un,tn)\n",
    "        figs.append(fig)\n",
    "        close(fig)\n",
    "    if n < nsteps-1:\n",
    "        # take the next step\n",
    "        Pn, Un = Godunov_step(Pn,Un,dt,dx)\n",
    "\n",
    "\n",
    "anim = animation_tools.animate_figs(figs, figsize=(5,5))\n",
    "HTML(anim.to_jshtml())"
   ]
  },
  {
   "cell_type": "code",
   "execution_count": null,
   "id": "909aa3a4",
   "metadata": {},
   "outputs": [],
   "source": []
  }
 ],
 "metadata": {
  "kernelspec": {
   "display_name": "base",
   "language": "python",
   "name": "python3"
  },
  "language_info": {
   "codemirror_mode": {
    "name": "ipython",
    "version": 3
   },
   "file_extension": ".py",
   "mimetype": "text/x-python",
   "name": "python",
   "nbconvert_exporter": "python",
   "pygments_lexer": "ipython3",
   "version": "3.9.7"
  },
  "vscode": {
   "interpreter": {
    "hash": "6cfc966953aaf22a995fc4fc8ac4858724f252045177b82b94046ee4e03f4379"
   }
  }
 },
 "nbformat": 4,
 "nbformat_minor": 5
}
