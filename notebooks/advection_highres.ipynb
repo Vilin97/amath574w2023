{
 "cells": [
  {
   "cell_type": "markdown",
   "id": "c556dd6e",
   "metadata": {},
   "source": [
    "# advection_highres\n",
    "\n",
    "## Advection equation using high resolution methods\n",
    "\n",
    "This notebook has a function `highres_step` that currently implements upwind, Lax-Wendroff, and the high-resolution method with the minmod limiter."
   ]
  },
  {
   "cell_type": "code",
   "execution_count": null,
   "id": "b300aac6",
   "metadata": {},
   "outputs": [],
   "source": [
    "%matplotlib inline"
   ]
  },
  {
   "cell_type": "code",
   "execution_count": null,
   "id": "e17a3c94",
   "metadata": {},
   "outputs": [],
   "source": [
    "from pylab import *"
   ]
  },
  {
   "cell_type": "code",
   "execution_count": null,
   "id": "8a29f4e3",
   "metadata": {},
   "outputs": [],
   "source": [
    "from IPython.display import HTML"
   ]
  },
  {
   "cell_type": "code",
   "execution_count": null,
   "id": "687e02fb",
   "metadata": {},
   "outputs": [],
   "source": [
    "try:\n",
    "    from clawpack.visclaw import animation_tools\n",
    "except:\n",
    "    print(\"Failed to load animation_tools from Clawpack\")"
   ]
  },
  {
   "cell_type": "markdown",
   "id": "1766b5df",
   "metadata": {},
   "source": [
    "Hard-wire the advection velocity:"
   ]
  },
  {
   "cell_type": "code",
   "execution_count": null,
   "id": "4881dfb1",
   "metadata": {},
   "outputs": [],
   "source": [
    "u = 2."
   ]
  },
  {
   "cell_type": "markdown",
   "id": "c22906d6",
   "metadata": {},
   "source": [
    "We now set up a grid with 2 ghost cells on each side, as needed in general for high-resolution methods with limiters.\n",
    "\n",
    "Note that only one ghost cell is needed for the data that goes into the Riemann problems we need solve for the Godunov update in the interior, but in order to limit the resulting waves based on looking at the neighboring Riemann problem on the upwind side, we need to solve an additional Riemann problem requiring another ghost cell for its data. "
   ]
  },
  {
   "cell_type": "code",
   "execution_count": null,
   "id": "a3b3dfa7",
   "metadata": {},
   "outputs": [],
   "source": [
    "xlower = 0.\n",
    "xupper = 1.\n",
    "num_cells = 20\n",
    "dx = (xupper - xlower)/num_cells\n",
    "\n",
    "# cell centers, including two ghost cells on either side:\n",
    "x = arange(xlower-3*dx/2, xupper+2*dx, dx)\n",
    "\n",
    "print('Including 4 ghost cells, the grid has %i cells indexed 0 to %i' % (len(x), len(x)-1))\n",
    "print('cell centers: \\n',x)\n",
    "\n",
    "# interior grid cells are numbered 2,3,...num_cells+1\n",
    "# It's also useful to define the array of indices of \n",
    "# interior cells for vectorized methods:\n",
    "ii = array(range(2,num_cells+2), dtype=int)  \n",
    "print('The indices of interior cells:\\n  ',ii)"
   ]
  },
  {
   "cell_type": "code",
   "execution_count": null,
   "id": "0cb31be1",
   "metadata": {},
   "outputs": [],
   "source": [
    "dt = 1.*dx/u\n",
    "cfl = u*dt/dx\n",
    "print('The Courant number is %.3f' % cfl)"
   ]
  },
  {
   "cell_type": "markdown",
   "id": "f0db7f56",
   "metadata": {},
   "source": [
    "### A simple illustration of a vectorized method:"
   ]
  },
  {
   "cell_type": "code",
   "execution_count": null,
   "id": "f9cd4bb8",
   "metadata": {},
   "outputs": [],
   "source": [
    "def upwind_step(x,Qn,dt,method='upwind'):\n",
    "    \n",
    "    \"\"\"\n",
    "    Illustrates simple vectorized version of the upwind method.\n",
    "    The method parameter is not used, just there for consistency\n",
    "    with highres_step.\n",
    "    \"\"\"\n",
    "    num_cells = len(x) - 4\n",
    "    dx = x[1] - x[0]  # assuming uniform grid\n",
    "    \n",
    "    #indices of interior grid cells (not including ghost cells)\n",
    "    ii = array(range(2,num_cells+2), dtype=int)\n",
    "    \n",
    "    cfl = u*dt/dx # assuming u defined globally\n",
    "    \n",
    "    Qnp = Qn.copy()\n",
    "    \n",
    "    # periodic BCs with two ghost cells on each side\n",
    "    Qn[0] = Qn[-4]\n",
    "    Qn[1] = Qn[-3]\n",
    "    Qn[-2] = Qn[2]\n",
    "    Qn[-1] = Qn[3]\n",
    "    \n",
    "    # vectorized version of upwind:\n",
    "    # (equivalent to looping `for i in range(2,num_cells+2)`)\n",
    "    if u>0:\n",
    "        Qnp[ii] = Qn[ii] - cfl*(Qn[ii] - Qn[ii-1])\n",
    "    else:\n",
    "        Qnp[ii] = Qn[ii] - cfl*(Qn[ii+1] - Qn[ii])\n",
    "\n",
    "    return Qnp"
   ]
  },
  {
   "cell_type": "markdown",
   "id": "904b7af5",
   "metadata": {},
   "source": [
    "### The version that allows adding second-order corrections (perhaps with a limiter)"
   ]
  },
  {
   "cell_type": "code",
   "execution_count": null,
   "id": "cc1c577b",
   "metadata": {},
   "outputs": [],
   "source": [
    "def highres_step(x,Qn,dt,method):\n",
    "    \"\"\"\n",
    "    High-resolution method for the advection equation, written\n",
    "    in a more general form similar to the methods described in\n",
    "    Section 12.8 of FVMHP for nonlinear scalar equations.\n",
    "    \n",
    "    method can be\n",
    "        'upwind', 'LW', or 'minmod'\n",
    "    in this version.\n",
    "    \"\"\"\n",
    "    \n",
    "    num_cells = len(Qn) - 4\n",
    "    dx = x[1] - x[0]  # assuming uniform grid\n",
    "    \n",
    "    #indices of interior grid cells (not including ghost cells)\n",
    "    ii = array(range(2,num_cells+2), dtype=int) \n",
    "        \n",
    "    Qnp = Qn.copy()\n",
    "    \n",
    "    # periodic BCs with two ghost cells on each side\n",
    "    Qn[0] = Qn[-4]\n",
    "    Qn[1] = Qn[-3]\n",
    "    Qn[-2] = Qn[2]\n",
    "    Qn[-1] = Qn[3]\n",
    "    \n",
    "    # waves:\n",
    "    wave = zeros(x.shape)\n",
    "    wave[1:] = Qn[1:] - Qn[0:-1]  # for cells that have an interface to left\n",
    "    \n",
    "    # speeds:\n",
    "    s = u*ones(x.shape) # all the same for constant-coefficient advection\n",
    "\n",
    "    # fluctuations (12.8) in FVMHP\n",
    "    amdq = where(s<0, s*wave, 0.)\n",
    "    apdq = where(s>0, s*wave, 0.)\n",
    "    \n",
    "    # Godunov step: propagate waves to update the proper cell:\n",
    "    Qnp[ii] = Qnp[ii] - dt/dx * apdq[ii]    # right-going\n",
    "    Qnp[ii] = Qnp[ii] - dt/dx * amdq[ii+1]  # left-going\n",
    "    \n",
    "    if method == 'upwind':\n",
    "        # for upwind, zero out all waves in high-resolution correction terms:\n",
    "        wlimiter = zeros(wave.shape)\n",
    "    elif method == 'LW':\n",
    "        # Lax-Wendroff, use full wave:\n",
    "        wlimiter = ones(wave.shape)\n",
    "    else:\n",
    "        # compute things needed for any limiter:\n",
    "        \n",
    "        # the wave from the neighboring Riemann problem on upwind side:\n",
    "        wave_upwind = zeros(x.shape)\n",
    "        wave_upwind[2:-1] = where(s[2:-1]>0, wave[1:-2], wave[3:])\n",
    "        \n",
    "        # compute ratio theta = wave_upwind/wave, returning 0 where wave==0:\n",
    "        # using the numpy.divide function this way avoids divide-by-zero\n",
    "        theta = divide(wave_upwind, wave, where=wave!=0, out=zeros(wave.shape))\n",
    "        \n",
    "        if method == 'minmod':\n",
    "            wlimiter = maximum(0., minimum(1., theta))\n",
    "        else:\n",
    "            print('method %s is not implemented, using upwind' % method)\n",
    "            wlimiter = zeros(wave.shape)\n",
    "        \n",
    "    Wtilde = wlimiter * wave\n",
    "        \n",
    "    # correction fluxes:\n",
    "    Ftilde = zeros(x.shape)\n",
    "    Ftilde[1:-1] = 0.5*abs(s[1:-1])*(1 - abs(s[1:-1])*dt/dx) * Wtilde[1:-1]\n",
    "    \n",
    "    # update cells by flux differencing Ftilde:\n",
    "    Qnp[ii] = Qnp[ii] - dt/dx * (Ftilde[ii+1] - Ftilde[ii])\n",
    "    \n",
    "    return Qnp"
   ]
  },
  {
   "cell_type": "code",
   "execution_count": null,
   "id": "2979c83f",
   "metadata": {},
   "outputs": [],
   "source": [
    "def time_stepper(t0, x, Q0, dt, nsteps, one_step=highres_step, method='minmod'):\n",
    "    \"\"\"\n",
    "    Take nsteps with time step dt, starting with initial data Q0 at time t0.\n",
    "    To take a single step use the method specified by one_step, which\n",
    "    defaults to Godunov_step since that is the only method currently defined.\n",
    "    But you might want to define a new method for comparison.\n",
    "    \"\"\"\n",
    "    Qn = Q0.copy()\n",
    "    for n in range(nsteps):\n",
    "        Qn = one_step(x, Qn, dt, method)\n",
    "    return Qn"
   ]
  },
  {
   "cell_type": "code",
   "execution_count": null,
   "id": "e26f74de",
   "metadata": {},
   "outputs": [],
   "source": [
    "def plotQ(x, Qn, tn):\n",
    "    # only plot the interior points:\n",
    "    plot(x[2:-3], Qn[2:-3], 'bo-', markersize=4)\n",
    "    grid(True)\n",
    "    xlim(xlower, xupper)\n",
    "    title('Time t = %.3f' % tn)"
   ]
  },
  {
   "cell_type": "code",
   "execution_count": null,
   "id": "37fae436",
   "metadata": {},
   "outputs": [],
   "source": [
    "def make_anim(t0, x, Q0, dt, nsteps, nplot, \n",
    "              one_step=highres_step, method='minmod'):\n",
    "    \n",
    "    Qn = Q0.copy() \n",
    "    \n",
    "    figsize = (6,2)\n",
    "    figs = []  # to accumulate figures for animation\n",
    "\n",
    "    # plot initial data:\n",
    "    fig = figure(figsize=figsize)\n",
    "    plotQ(x,Q0,t0)\n",
    "    title('t = %.3f, %s' % (t0,method))\n",
    "    figs.append(fig)\n",
    "    close(fig)\n",
    "\n",
    "    for n in range(1,nsteps+1):\n",
    "        # take the next step\n",
    "        Qn = one_step(x,Qn,dt,method)\n",
    "        tn = n*dt\n",
    "        if mod(n,nplot)==0:\n",
    "            fig = figure(figsize=figsize)\n",
    "            plotQ(x,Qn,tn)\n",
    "            title('t = %.3f, %s' % (tn,method))\n",
    "            figs.append(fig)\n",
    "            close(fig)            \n",
    "            \n",
    "    anim = animation_tools.animate_figs(figs, figsize=figsize)\n",
    "    return anim"
   ]
  },
  {
   "cell_type": "markdown",
   "id": "df5e8814",
   "metadata": {},
   "source": [
    "### Example usage\n",
    "\n",
    "Set up to use the minmod limiter method."
   ]
  },
  {
   "cell_type": "code",
   "execution_count": null,
   "id": "2461e05e",
   "metadata": {},
   "outputs": [],
   "source": [
    "num_cells = 100\n",
    "dx = (xupper - xlower)/num_cells\n",
    "# cell centers, including two ghost cells on either side:\n",
    "x = arange(xlower-3*dx/2, xupper+2*dx, dx)\n",
    "\n",
    "t0 = 0.\n",
    "Q0 = where(x<0.3, 1., 0.) + exp(-200*(x-0.7)**2)\n",
    "\n",
    "tn = 0.\n",
    "figure(figsize=(6,2))\n",
    "plotQ(x,Q0,t0)\n",
    "\n",
    "\n",
    "dt = 0.004\n",
    "cfl = u*dt/dx\n",
    "nsteps = 20\n",
    "tn = t0 + nsteps*dt\n",
    "print('Using dt = %.4f, cfl = %.2f, taking %i steps to time %.3f' \\\n",
    "      % (dt,cfl,nsteps,tn))\n",
    "\n",
    "Qn = time_stepper(t0, x, Q0, dt, nsteps, highres_step, 'minmod')\n",
    "fig = figure(figsize=(6,2))\n",
    "plotQ(x,Qn,tn)"
   ]
  },
  {
   "cell_type": "markdown",
   "id": "09a096fe",
   "metadata": {},
   "source": [
    "### Make an animation"
   ]
  },
  {
   "cell_type": "code",
   "execution_count": null,
   "id": "28c243fe",
   "metadata": {},
   "outputs": [],
   "source": [
    "num_cells = 100\n",
    "dx = (xupper - xlower)/num_cells\n",
    "# cell centers, including two ghost cells on either side:\n",
    "x = arange(xlower-3*dx/2, xupper+2*dx, dx)\n",
    "\n",
    "t0 = 0.\n",
    "Q0 = where(x<0.3, 1., 0.) + exp(-200*(x-0.7)**2)\n",
    "\n",
    "dt = 0.0045\n",
    "cfl = u*dt/dx\n",
    "print('Courant number = %.2f' % cfl)\n",
    "nsteps = 150\n",
    "nplot = 10\n",
    "\n",
    "anim = make_anim(t0, x, Q0, dt, nsteps, nplot, highres_step, 'minmod')\n",
    "HTML(anim.to_jshtml())"
   ]
  },
  {
   "cell_type": "code",
   "execution_count": null,
   "id": "fadc75d5",
   "metadata": {},
   "outputs": [],
   "source": []
  },
  {
   "cell_type": "code",
   "execution_count": null,
   "id": "81e3143f",
   "metadata": {},
   "outputs": [],
   "source": []
  }
 ],
 "metadata": {
  "kernelspec": {
   "display_name": "Python 3 (ipykernel)",
   "language": "python",
   "name": "python3"
  },
  "language_info": {
   "codemirror_mode": {
    "name": "ipython",
    "version": 3
   },
   "file_extension": ".py",
   "mimetype": "text/x-python",
   "name": "python",
   "nbconvert_exporter": "python",
   "pygments_lexer": "ipython3",
   "version": "3.10.9"
  }
 },
 "nbformat": 4,
 "nbformat_minor": 5
}
